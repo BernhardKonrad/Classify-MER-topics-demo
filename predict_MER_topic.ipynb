{
 "metadata": {
  "name": "",
  "signature": "sha256:8bb7305c65e4a95eadaff5419c9d85ebaa56a62c50f9194c2b2e917a43057af4"
 },
 "nbformat": 3,
 "nbformat_minor": 0,
 "worksheets": [
  {
   "cells": [
    {
     "cell_type": "markdown",
     "metadata": {},
     "source": [
      "# Predict the topic of a Math Question on Math Education Resources"
     ]
    },
    {
     "cell_type": "markdown",
     "metadata": {},
     "source": [
      "<img src=\"MERS_penguin_3_right-min.png\" width=\"200\" height=\"200\" />"
     ]
    },
    {
     "cell_type": "markdown",
     "metadata": {},
     "source": [
      "We will use **Logistic regression** to predict the topic of a Math Question from the [Math Education Resources](http://math-education-resources.com). For simplicity we will only consider two topics. Using [multiclass classification](https://en.wikipedia.org/wiki/Multiclass_classification) this can be extended to more than two topics (at the time of writing, April 2015, we have about 1500 questions with 150 topics on MER)."
     ]
    },
    {
     "cell_type": "markdown",
     "metadata": {},
     "source": [
      "## Data inspection"
     ]
    },
    {
     "cell_type": "code",
     "collapsed": false,
     "input": [
      "import os\n",
      "import json\n",
      "import numpy as np"
     ],
     "language": "python",
     "metadata": {},
     "outputs": [],
     "prompt_number": 1
    },
    {
     "cell_type": "code",
     "collapsed": false,
     "input": [
      "FOLDER = 'json_data_2_topics'\n",
      "file_locations = [file_name for file_name in os.walk(FOLDER)][0][-1]\n",
      "questions = [json.loads(open(os.path.join(FOLDER, f), 'r').read()) for f in file_locations]"
     ],
     "language": "python",
     "metadata": {},
     "outputs": [],
     "prompt_number": 2
    },
    {
     "cell_type": "markdown",
     "metadata": {},
     "source": [
      "The variable `questions` is now a list of MER questions. Let's have a look at an example."
     ]
    },
    {
     "cell_type": "code",
     "collapsed": false,
     "input": [
      "questions[1]"
     ],
     "language": "python",
     "metadata": {},
     "outputs": [
      {
       "metadata": {},
       "output_type": "pyout",
       "prompt_number": 3,
       "text": [
        "{u'ID': u'UBC+MATH105+April_2010+01_(l)',\n",
        " u'answer_html': u'<p>hence we choose <em>k=5/62</em>.</p>\\n',\n",
        " u'answer_latex': u'hence we choose \\\\emph{k=5/62}.',\n",
        " u'contributors': [u'DavidKohler'],\n",
        " u'course': u'MATH105',\n",
        " u'flags': [u'QGQ', u'QGH', u'QGS', u'RT'],\n",
        " u'hints_html': [u'<p>For <span class=\"math\">\\\\(f(x)\\\\)</span> to be a probability density function on <span>[</span>a,b<span>]</span> it needs to satisfy</p>\\n<p><span class=\"math\">\\\\[\\\\begin{aligned}\\n(i) \\\\quad f(x) \\\\geq 0\\\\end{aligned}\\\\]</span></p>\\n<p>for all <span class=\"math\">\\\\(x \\\\in [a,b]\\\\)</span>, and</p>\\n<p><span class=\"math\">\\\\[\\\\begin{aligned}\\n(ii) \\\\quad \\\\int_a^b f(x)\\\\,dx = 1.\\\\end{aligned}\\\\]</span></p>\\n'],\n",
        " u'hints_latex': [u'For $f(x)$ to be a probability density function on {[}a,b{]} it needs to\\nsatisfy\\n\\n\\\\begin{align*}\\n(i) \\\\quad f(x) \\\\geq 0\\n\\\\end{align*}\\n\\nfor all $x \\\\in [a,b]$, and\\n\\n\\\\begin{align*}\\n(ii) \\\\quad \\\\int_a^b f(x)\\\\,dx = 1.\\n\\\\end{align*}'],\n",
        " u'hints_raw': [u'For &lt;math>f(x)&lt;/math> to be a probability density function on [a,b] it needs to satisfy\\n\\n:&lt;math>(i) \\\\quad f(x) \\\\geq 0&lt;/math>\\n\\nfor all &lt;math>x \\\\in [a,b]&lt;/math>, and\\n\\n:&lt;math> (ii) \\\\quad \\\\int_a^b f(x)\\\\,dx = 1. &lt;/math>'],\n",
        " u'num_votes': 0,\n",
        " u'question': u'1 (l)',\n",
        " u'rating': -1,\n",
        " u'sols_html': [u'<p>The constant <em>k</em> needs to be chosen such that <em>f(x)</em> integrates to 1:</p>\\n<p><span class=\"math\">\\\\[\\\\begin{aligned}\\n\\\\int_1^4 kx^{3/2}\\\\,dx &amp;= k\\\\int_1^4x^{3/2}\\\\,dx =k\\\\frac25x^{5/2}\\\\bigg|_1^4 \\\\\\\\\\n&amp;=k\\\\frac25(4^{5/2}-1^{5/2}) = k\\\\frac{62}5,\\\\end{aligned}\\\\]</span></p>\\n<p>hence we choose <em>k=5/62</em>.</p>\\n'],\n",
        " u'sols_latex': [u'The constant \\\\emph{k} needs to be chosen such that \\\\emph{f(x)}\\nintegrates to 1:\\n\\n\\\\begin{align*}\\n\\\\int_1^4 kx^{3/2}\\\\,dx &= k\\\\int_1^4x^{3/2}\\\\,dx =k\\\\frac25x^{5/2}\\\\bigg|_1^4 \\\\\\\\\\n&=k\\\\frac25(4^{5/2}-1^{5/2}) = k\\\\frac{62}5,\\n\\\\end{align*}\\n\\nhence we choose \\\\emph{k=5/62}.'],\n",
        " u'sols_raw': [u\"The constant ''k'' needs to be chosen such that ''f(x)'' integrates to 1:\\n\\n:&lt;math>\\\\begin{align}\\n\\\\int_1^4 kx^{3/2}\\\\,dx &amp;= k\\\\int_1^4x^{3/2}\\\\,dx =k\\\\frac25x^{5/2}\\\\bigg|_1^4 \\\\\\\\\\n&amp;=k\\\\frac25(4^{5/2}-1^{5/2}) = k\\\\frac{62}5,\\n\\\\end{align}\\n&lt;/math>\\n\\nhence we choose ''k=5/62''.\"],\n",
        " u'solvers': [u'Konradbe'],\n",
        " u'statement_html': u'<p>Let <em>k</em> be a constant. Find the value of <em>k</em> such that</p>\\n<p><span class=\"math\">\\\\[\\\\begin{aligned}\\n\\\\displaystyle f(x) = k x^{3/2}\\\\end{aligned}\\\\]</span></p>\\n<p>is a probability density function on 1 <span class=\"math\">\\\\(\\\\leq\\\\)</span> <em>x</em> <span class=\"math\">\\\\(\\\\leq\\\\)</span> 4.</p>\\n',\n",
        " u'statement_latex': u'Let \\\\emph{k} be a constant. Find the value of \\\\emph{k} such that\\n\\n\\\\begin{align*}\\n\\\\displaystyle f(x) = k x^{3/2}\\n\\\\end{align*}\\n\\nis a probability density function on 1 $\\\\leq$ \\\\emph{x} $\\\\leq$ 4.',\n",
        " u'statement_raw': u\"Let ''k'' be a constant. Find the value of ''k'' such that\\n\\n:&lt;math> \\\\displaystyle f(x) = k x^{3/2} &lt;/math>\\n\\nis a probability density function on 1 \\u2264 ''x'' \\u2264 4.\",\n",
        " u'term': u'April',\n",
        " u'topic_suggest': [u'Separation_of_variables'],\n",
        " u'topics': [u'Probability_density_function'],\n",
        " u'url': u'http://wiki.ubc.ca/Science:Math_Exam_Resources/Courses/MATH105/April_2010/Question_01_(l)',\n",
        " u'year': 2010}"
       ]
      }
     ],
     "prompt_number": 3
    },
    {
     "cell_type": "code",
     "collapsed": false,
     "input": [
      "from IPython.display import HTML, Javascript, display\n",
      "def display_MER_question(q, right=True):\n",
      "    ''' A helper function to display questions in the notebook. '''\n",
      "    def base_html(title, body):\n",
      "        top = \"<div style='background: #AAFFAA; width: 40%;\"\n",
      "        left = \"position:absolute; left: 50%;\"\n",
      "        middle = \"</div><div style='display: inline-block; width: 40%;\"\n",
      "        end = \"</div>\"\n",
      "        if right:\n",
      "            return top + \"'>\" + title + middle + \"'>\" + body + end\n",
      "        else:\n",
      "            return top + left + \"'>\" + title + middle + left + \"'>\" + body  + end\n",
      "    topic = base_html('Topic', q['topics'][0])\n",
      "    statement = base_html('Statement', q['statement_html'])\n",
      "    hint = base_html('Hint', q['hints_html'][0])\n",
      "    sol = base_html('Solution', q['sols_html'][0])\n",
      "    display(HTML(data = base_html(q['topics'][0], (\"<h3>STATEMENT</h3>\" + q['statement_html'] +\n",
      "                                                   \"<h3>HINT</h3>\" + q['hints_html'][0] +\n",
      "                                                   \"<h3>SOLUTION</h3>\" + q['sols_html'][0]))))"
     ],
     "language": "python",
     "metadata": {},
     "outputs": [],
     "prompt_number": 4
    },
    {
     "cell_type": "markdown",
     "metadata": {},
     "source": [
      "Let's take a look at the rendered version of examples of the questions we are working with."
     ]
    },
    {
     "cell_type": "code",
     "collapsed": false,
     "input": [
      "display_MER_question(questions[3], right=False)\n",
      "display_MER_question(questions[1])"
     ],
     "language": "python",
     "metadata": {},
     "outputs": [
      {
       "html": [
        "<div style='background: #AAFFAA; width: 40%;position:absolute; left: 50%;'>Eigenvalues_and_eigenvectors</div><div style='display: inline-block; width: 40%;position:absolute; left: 50%;'><h3>STATEMENT</h3><p>What are the eigenvalues and eigenvectors of the matrix <em>A</em> below?</p>\n",
        "<p><span class=\"math\">\\(A = \\begin{bmatrix}\n",
        "0 &amp; 0 &amp; 0 \\\\\n",
        "0 &amp; 0 &amp; 0 \\\\\n",
        "0 &amp; 0 &amp; 0 \n",
        "\\end{bmatrix}\\)</span></p>\n",
        "<h3>HINT</h3><p>Eigenvalues are the roots of the characteristic polynomial given by <span class=\"math\">\\(\\det(A-\\lambda I)\\)</span>. For the eigenvectors, observe what happens when you take a vector <em>v</em> and multiply it by your matrix.</p>\n",
        "<h3>SOLUTION</h3><p>Notice that</p>\n",
        "<p><span class=\"math\">\\(\\det(A-I\\lambda)\n",
        "= \\det\\left( \\begin{bmatrix}\n",
        "0 &amp; 0 &amp; 0 \\\\\n",
        "0 &amp; 0 &amp; 0 \\\\\n",
        "0 &amp; 0 &amp; 0 \n",
        "\\end{bmatrix}\n",
        "-\\begin{bmatrix}\n",
        "\\lambda &amp; 0 &amp; 0 \\\\\n",
        "0 &amp; \\lambda &amp; 0 \\\\\n",
        "0 &amp; 0 &amp; \\lambda \n",
        "\\end{bmatrix}\n",
        "\\right)\n",
        "= -\\lambda^{3}\\)</span></p>\n",
        "<p>and the roots of this polynomial are <span class=\"math\">\\(\\lambda =0\\)</span>. This is a triple root and so this is the only eigenvalue. Next, for any vector <em>v</em>, we have</p>\n",
        "<p><span class=\"math\">\\(Av = 0 = 0v\\)</span></p>\n",
        "<p>and hence every <strong>nonzero</strong> vector <em>v</em> is an eigenvector.</p>\n",
        "</div>"
       ],
       "metadata": {},
       "output_type": "display_data",
       "text": [
        "<IPython.core.display.HTML at 0x7fcf8c4a7890>"
       ]
      },
      {
       "html": [
        "<div style='background: #AAFFAA; width: 40%;'>Probability_density_function</div><div style='display: inline-block; width: 40%;'><h3>STATEMENT</h3><p>Let <em>k</em> be a constant. Find the value of <em>k</em> such that</p>\n",
        "<p><span class=\"math\">\\[\\begin{aligned}\n",
        "\\displaystyle f(x) = k x^{3/2}\\end{aligned}\\]</span></p>\n",
        "<p>is a probability density function on 1 <span class=\"math\">\\(\\leq\\)</span> <em>x</em> <span class=\"math\">\\(\\leq\\)</span> 4.</p>\n",
        "<h3>HINT</h3><p>For <span class=\"math\">\\(f(x)\\)</span> to be a probability density function on <span>[</span>a,b<span>]</span> it needs to satisfy</p>\n",
        "<p><span class=\"math\">\\[\\begin{aligned}\n",
        "(i) \\quad f(x) \\geq 0\\end{aligned}\\]</span></p>\n",
        "<p>for all <span class=\"math\">\\(x \\in [a,b]\\)</span>, and</p>\n",
        "<p><span class=\"math\">\\[\\begin{aligned}\n",
        "(ii) \\quad \\int_a^b f(x)\\,dx = 1.\\end{aligned}\\]</span></p>\n",
        "<h3>SOLUTION</h3><p>The constant <em>k</em> needs to be chosen such that <em>f(x)</em> integrates to 1:</p>\n",
        "<p><span class=\"math\">\\[\\begin{aligned}\n",
        "\\int_1^4 kx^{3/2}\\,dx &amp;= k\\int_1^4x^{3/2}\\,dx =k\\frac25x^{5/2}\\bigg|_1^4 \\\\\n",
        "&amp;=k\\frac25(4^{5/2}-1^{5/2}) = k\\frac{62}5,\\end{aligned}\\]</span></p>\n",
        "<p>hence we choose <em>k=5/62</em>.</p>\n",
        "</div>"
       ],
       "metadata": {},
       "output_type": "display_data",
       "text": [
        "<IPython.core.display.HTML at 0x7fcf8c4a7490>"
       ]
      }
     ],
     "prompt_number": 5
    },
    {
     "cell_type": "markdown",
     "metadata": {},
     "source": [
      "Our dataset consists of questions of **two classes of topics**:"
     ]
    },
    {
     "cell_type": "code",
     "collapsed": false,
     "input": [
      "TOPIC0 = 'Probability_density_function'\n",
      "TOPIC1 = 'Eigenvalues_and_eigenvectors'\n",
      "print('Total number of questions: %d' % len(questions))\n",
      "print('Number of questions on %s: %d' %(TOPIC0, sum([1 for q in questions if TOPIC0 in q['topics']])))\n",
      "print('Number of questions on %s: %d' %(TOPIC1, sum([1 for q in questions if TOPIC1 in q['topics']])))"
     ],
     "language": "python",
     "metadata": {},
     "outputs": [
      {
       "output_type": "stream",
       "stream": "stdout",
       "text": [
        "Total number of questions: 81\n",
        "Number of questions on Probability_density_function: 37\n",
        "Number of questions on Eigenvalues_and_eigenvectors: 44\n"
       ]
      }
     ],
     "prompt_number": 6
    },
    {
     "cell_type": "markdown",
     "metadata": {},
     "source": [
      "## Data Preparation"
     ]
    },
    {
     "cell_type": "markdown",
     "metadata": {},
     "source": [
      "### Recall **Logistic regression**\n",
      "\n",
      "$$h_\\theta(x) = \\frac1{1+e^{-\\theta^Tx}}$$\n",
      "\n",
      "where $\\theta^T = (\\theta_0, \\theta_1, \\dots, \\theta_n)$ are the **weights** (or **parameters**) of the **features** $x_i$, $i=0,\\dots,n$. The **sigmoid function** $h_\\theta(x)$ maps into $[0, 1]$ and is interpreted as the *probability (or confidence) that the observation $x$ is positive*. We also call $h_\\theta$ the **hypothesis**.\n",
      "\n",
      "<img src=\"Logistic-curve.png\" width=\"300\" height=\"300\" />\n",
      "\n",
      "The weights $\\theta$ are **trained** (or **learned**) by minimizing the **cost function** $J(\\theta)$ over the **training set** of size $m$:\n",
      "\n",
      "$$\\min_\\theta J(\\theta) = \\min_\\theta \\frac{-1}{m} \\left[\\sum_{i=1}^m y^{(i)}\\log h_\\theta(x^{(i)}) + (1-y^{(i)})\\log(1-h_\\theta(x^{(i)}))\\right]$$\n",
      "\n",
      "Note that, for each training set $x^{(i)}$ with label $y^{(i)}$ one of the two summands is zero. The non-zero summand is unbounded and is larger the more the logistic regression is confident about an incorrect prediction. Note further, that $J$ is **convex** which means that the optimal parameter $\\theta$ is unique and can be computed efficiently."
     ]
    },
    {
     "cell_type": "markdown",
     "metadata": {},
     "source": [
      "### Split off training and test set\n",
      "\n",
      "In order to test the performance of the algorithm in the end, we set aside a **test set** that is never touched until the verification at the very end."
     ]
    },
    {
     "cell_type": "code",
     "collapsed": false,
     "input": [
      "np.random.seed(23)  # for reproducibility we set the seed of the random number generator\n",
      "m = 20\n",
      "test_indices = np.random.choice(range(len(questions)), m, replace=False)\n",
      "questions_train = [q for i, q in enumerate(questions) if not i in test_indices]\n",
      "questions_test = [q for i, q in enumerate(questions) if i in test_indices]\n",
      "print('%s questions in test set: %d' % (TOPIC0, sum([1 for q in questions_test if TOPIC0 in q['topics']])))\n",
      "print('%s questions in test set: %d' % (TOPIC1, sum([1 for q in questions_test if TOPIC1 in q['topics']])))"
     ],
     "language": "python",
     "metadata": {},
     "outputs": [
      {
       "output_type": "stream",
       "stream": "stdout",
       "text": [
        "Probability_density_function questions in test set: 9\n",
        "Eigenvalues_and_eigenvectors questions in test set: 11\n"
       ]
      }
     ],
     "prompt_number": 7
    },
    {
     "cell_type": "markdown",
     "metadata": {},
     "source": [
      "### Transforming text data to vectors\n",
      "\n",
      "#### Manufactoring the class label\n",
      "\n",
      "In the data preparation we have to transform the written content to feature vectors $x \\in \\mathbb{R}^n$, and the topics to a binary class label $y \\in \\{0, 1\\}$. Starting with the latter, we set\n",
      "\n",
      "**0 = Probability_density_function**\n",
      "\n",
      "**1 = Eigenvalues_and_eigenvectors**"
     ]
    },
    {
     "cell_type": "code",
     "collapsed": false,
     "input": [
      "def topic_from_question(q):\n",
      "    return TOPIC1 in q['topics']"
     ],
     "language": "python",
     "metadata": {},
     "outputs": [],
     "prompt_number": 8
    },
    {
     "cell_type": "markdown",
     "metadata": {},
     "source": [
      "#### Manufacturing the feature vector"
     ]
    },
    {
     "cell_type": "markdown",
     "metadata": {},
     "source": [
      "Transforming the text to a vector is more tricky. Our strategy is the following:\n",
      "\n",
      "1. Find all words in all questions.\n",
      "2. Collapse similar words (stemming).\n",
      "3. Remove unwanted words to obtain total dictionary of size $n$ words (stopwords).\n",
      "4. Each remaining word is a basis vector in $\\mathbb{R}^n$.\n",
      "5. question_vector $= \\sum_{i = 1}^n e_i \\mathbf{1}_{\\text{word i in question}}$\n",
      "\n",
      "Before we do any of that, we split off a training and test set so that we can check our performance later. More precisely, we set aside 20 randomly chosen questions, train the algorithm on the remaining 61. This way we can compare the prediction for the test set with the real topic."
     ]
    },
    {
     "cell_type": "markdown",
     "metadata": {},
     "source": [
      "### Aside: Basic natural language processing"
     ]
    },
    {
     "cell_type": "code",
     "collapsed": false,
     "input": [
      "import helpers\n",
      "from nltk import PorterStemmer\n",
      "from nltk.corpus import stopwords"
     ],
     "language": "python",
     "metadata": {},
     "outputs": [],
     "prompt_number": 9
    },
    {
     "cell_type": "markdown",
     "metadata": {},
     "source": [
      "#### Stopwords\n",
      "\n",
      "A collection of 127 common stop words in the english language. They usually don't transport much meaning, hence we want to ignore them here. This is optional in our example. A common alternative to not distract your classifier by words that don't transport a lot of meaning is [tf-idf](https://en.wikipedia.org/wiki/Tf%E2%80%93idf)."
     ]
    },
    {
     "cell_type": "code",
     "collapsed": false,
     "input": [
      "stopwords.words('english')[:10]"
     ],
     "language": "python",
     "metadata": {},
     "outputs": [
      {
       "metadata": {},
       "output_type": "pyout",
       "prompt_number": 10,
       "text": [
        "['i', 'me', 'my', 'myself', 'we', 'our', 'ours', 'ourselves', 'you', 'your']"
       ]
      }
     ],
     "prompt_number": 10
    },
    {
     "cell_type": "markdown",
     "metadata": {},
     "source": [
      "#### Stemming\n",
      "\n",
      "A tool from linguistics to reduce each word to its base or root form. We choose to treat plural and singular, among other things, as the same word."
     ]
    },
    {
     "cell_type": "code",
     "collapsed": false,
     "input": [
      "[PorterStemmer().stem_word(w) for w in ['sensation', 'sensational', 'seasonal', 'flying', 'flies', 'fly', 'swing', 'swine']]"
     ],
     "language": "python",
     "metadata": {},
     "outputs": [
      {
       "metadata": {},
       "output_type": "pyout",
       "prompt_number": 11,
       "text": [
        "['sensat', 'sensat', 'season', 'fli', 'fli', 'fli', 'swing', 'swine']"
       ]
      }
     ],
     "prompt_number": 11
    },
    {
     "cell_type": "code",
     "collapsed": false,
     "input": [
      "def words_from_question(q):\n",
      "    all_text = q['statement_html'] + q['hints_html'][0] + q['sols_html'][0]\n",
      "    return helpers.strip_text(all_text)\n",
      "\n",
      "def words_stemmed_no_stop(words):\n",
      "    stop = stopwords.words('english')\n",
      "    res = []\n",
      "    for word in words:\n",
      "        stemmed = PorterStemmer().stem_word(word)\n",
      "        if stemmed not in stop and len(stemmed) > 1:\n",
      "            res.append(stemmed)\n",
      "    return res"
     ],
     "language": "python",
     "metadata": {},
     "outputs": [],
     "prompt_number": 12
    },
    {
     "cell_type": "markdown",
     "metadata": {},
     "source": [
      "#### Pre-processing in action"
     ]
    },
    {
     "cell_type": "code",
     "collapsed": false,
     "input": [
      "display_MER_question(questions_train[-1])"
     ],
     "language": "python",
     "metadata": {},
     "outputs": [
      {
       "html": [
        "<div style='background: #AAFFAA; width: 40%;'>Probability_density_function</div><div style='display: inline-block; width: 40%;'><h3>STATEMENT</h3><p>Consider the function</p>\n",
        "<p><span class=\"math\">\\[\\begin{aligned}\n",
        "F(x) = \\begin{cases}\n",
        "a &amp; \\text{if } x &lt; 0, \\\\\n",
        "k \\arctan x &amp; \\text{if } 0 \\leq x \\leq 1, \\\\\n",
        "b &amp; \\text{if } x \\geq 1.\n",
        "\\end{cases}\\end{aligned}\\]</span></p>\n",
        "<p><strong>(b)</strong> Let <em>X</em> be the continuous random variable with cummulative distribution function <em>F(x)</em> as given in part <span>(a)</span>. Find the probability density function of <em>X</em>.</p>\n",
        "<h3>HINT</h3><p>The cumulative distribution function and the probability density function are related by a simple formula that involves an integral. Use the fundamental theorem of calculus to change this integral relationship to one using a derivative instead.</p>\n",
        "<h3>SOLUTION</h3><p>The cumulative distribution is obtained by integrating the probability density function, hence the probability density function (pdf) is the derivative of the cumulative distribution function.</p>\n",
        "<p>From part (a),</p>\n",
        "<p><span class=\"math\">\\[\\begin{aligned}\n",
        "F(x) = \\begin{cases}\n",
        "0 &amp; \\text{if } x &lt; 0, \\\\\n",
        "\\frac{4}{\\pi} \\arctan x &amp; \\text{if } 0 \\leq x \\leq 1, \\\\\n",
        "1 &amp; \\text{if } x \\geq 1.\n",
        "\\end{cases}\\end{aligned}\\]</span></p>\n",
        "<p>hence the pdf is the derivative:</p>\n",
        "<p><span class=\"math\">\\[\\begin{aligned}\n",
        "f(x) = F&#39;(x) = \\begin{cases}\n",
        "0 &amp; \\text{if } x &lt; 0, \\\\\n",
        "\\frac{4}{\\pi} \\frac{1}{1+x^2} &amp; \\text{if } 0 &lt; x &lt; 1, \\\\\n",
        "0 &amp; \\text{if } x &gt; 1.\n",
        "\\end{cases}\\end{aligned}\\]</span></p>\n",
        "<p>If you are really picky, you might be concerned about the endpoints. Technically the derivative is not defined at the points 0 and 1 (due to &#8220;corners&#8221;); however, for continuous random variables, the probabilities will be unaffected by isolated points where the derivative of the cumulative distribution function is undefined. How we defined the pdf <span class=\"math\">\\(f(x)\\)</span> above is completely fine.</p>\n",
        "</div>"
       ],
       "metadata": {},
       "output_type": "display_data",
       "text": [
        "<IPython.core.display.HTML at 0x7fcf798ed310>"
       ]
      }
     ],
     "prompt_number": 13
    },
    {
     "cell_type": "code",
     "collapsed": false,
     "input": [
      "q_text = words_from_question(questions_train[-1])\n",
      "print(q_text)\n",
      "print('-' * 100)\n",
      "print('Words stemmed and stopwords removed:')\n",
      "print('-' * 100)\n",
      "print(words_stemmed_no_stop(q_text))"
     ],
     "language": "python",
     "metadata": {},
     "outputs": [
      {
       "output_type": "stream",
       "stream": "stdout",
       "text": [
        "[u'', u'consider', u'the', u'function', u'strong', u'b', u'strong', u'let', u'be', u'the', u'continuous', u'random', u'variable', u'with', u'cummulative', u'distribution', u'function', u'as', u'given', u'in', u'part', u'span', u'a', u'find', u'the', u'probability', u'density', u'function', u'of', u'the', u'cumulative', u'distribution', u'function', u'and', u'the', u'probability', u'density', u'function', u'are', u'related', u'by', u'a', u'simple', u'formula', u'that', u'involves', u'an', u'integral', u'use', u'the', u'fundamental', u'theorem', u'of', u'calculus', u'to', u'change', u'this', u'integral', u'relationship', u'to', u'one', u'using', u'a', u'derivative', u'instead', u'the', u'cumulative', u'distribution', u'is', u'obtained', u'by', u'integrating', u'the', u'probability', u'density', u'function', u'hence', u'the', u'probability', u'density', u'function', u'pdf', u'is', u'the', u'derivative', u'of', u'the', u'cumulative', u'distribution', u'function', u'from', u'part', u'a', u'hence', u'the', u'pdf', u'is', u'the', u'derivative', u'if', u'you', u'are', u'really', u'picky', u'you', u'might', u'be', u'concerned', u'about', u'the', u'endpoints', u'technically', u'the', u'derivative', u'is', u'not', u'defined', u'at', u'the', u'points', u'and', u'due', u'to', u'corners', u'however', u'for', u'continuous', u'random', u'variables', u'the', u'probabilities', u'will', u'be', u'unaffected', u'by', u'isolated', u'points', u'where', u'the', u'derivative', u'of', u'the', u'cumulative', u'distribution', u'function', u'is', u'undefined', u'how', u'we', u'defined', u'the', u'pdf', u'above', u'is', u'completely', u'fine', u'fraction', u'arctangent', u'pi', u'greater_than']\n",
        "----------------------------------------------------------------------------------------------------\n",
        "Words stemmed and stopwords removed:\n",
        "----------------------------------------------------------------------------------------------------\n",
        "[u'consid', u'function', u'strong', u'strong', u'let', u'continu', u'random', u'variabl', u'cummul', u'distribut', u'function', u'given', u'part', u'span', u'find', u'probabl', u'densiti', u'function', u'cumul', u'distribut', u'function', u'probabl', u'densiti', u'function', u'relat', u'simpl', u'formula', u'involv', u'integr', u'use', u'fundament', u'theorem', u'calculu', u'chang', u'thi', u'integr', u'relationship', u'one', u'use', u'deriv', u'instead', u'cumul', u'distribut', u'obtain', u'integr', u'probabl', u'densiti', u'function', u'henc', u'probabl', u'densiti', u'function', u'pdf', u'deriv', u'cumul', u'distribut', u'function', u'part', u'henc', u'pdf', u'deriv', u'realli', u'picki', u'might', u'concern', u'endpoint', u'technic', u'deriv', u'defin', u'point', u'due', u'corner', u'howev', u'continu', u'random', u'variabl', u'probabl', u'unaffect', u'isol', u'point', u'deriv', u'cumul', u'distribut', u'function', u'undefin', u'defin', u'pdf', u'abov', u'complet', u'fine', u'fraction', u'arctang', u'pi', u'greater_than']\n"
       ]
      }
     ],
     "prompt_number": 14
    },
    {
     "cell_type": "markdown",
     "metadata": {},
     "source": [
      "#### Continued: Manufactoring the feature vector\n",
      "\n",
      "With this, we can now create our dictionary of words, which defines $n$, the size the feature vectors $x$."
     ]
    },
    {
     "cell_type": "code",
     "collapsed": false,
     "input": [
      "vocabulary = []\n",
      "for q in questions_train:\n",
      "    vocabulary += words_stemmed_no_stop(words_from_question(q))\n",
      "vocabulary_sorted = sorted(set(vocabulary))\n",
      "print('Number of distinct words:', len(vocabulary_sorted))\n",
      "print(vocabulary_sorted[:15])"
     ],
     "language": "python",
     "metadata": {},
     "outputs": [
      {
       "output_type": "stream",
       "stream": "stdout",
       "text": [
        "('Number of distinct words:', 580)\n",
        "[u'abl', u'abov', u'absolut', u'accept', u'accord', u'across', u'act', u'ad', u'addit', u'adjoin', u'ahead', u'algebra', u'allow', u'along', u'alreadi']\n"
       ]
      }
     ],
     "prompt_number": 15
    },
    {
     "cell_type": "markdown",
     "metadata": {},
     "source": [
      "Now that we know the size $n$ the vector space of MER questions we can finally transform each question into a vector $x \\in \\mathbb{R}^n$."
     ]
    },
    {
     "cell_type": "code",
     "collapsed": false,
     "input": [
      "def question_to_vector(q, voc):\n",
      "    x_vec = np.zeros(len(voc))\n",
      "    words = words_stemmed_no_stop(words_from_question(q))\n",
      "    for word in words:\n",
      "        if word in voc:\n",
      "            x_vec[voc.index(word)] = 1\n",
      "    return x_vec"
     ],
     "language": "python",
     "metadata": {},
     "outputs": [],
     "prompt_number": 16
    },
    {
     "cell_type": "code",
     "collapsed": false,
     "input": [
      "print(question_to_vector(questions_train[-1], vocabulary_sorted))"
     ],
     "language": "python",
     "metadata": {},
     "outputs": [
      {
       "output_type": "stream",
       "stream": "stdout",
       "text": [
        "[ 0.  1.  0.  0.  0.  0.  0.  0.  0.  0.  0.  0.  0.  0.  0.  0.  0.  0.\n",
        "  0.  0.  0.  0.  0.  0.  0.  0.  0.  0.  0.  0.  0.  0.  1.  0.  0.  0.\n",
        "  0.  0.  0.  0.  0.  0.  0.  0.  0.  0.  0.  0.  0.  0.  0.  0.  0.  0.\n",
        "  0.  0.  0.  1.  0.  0.  0.  0.  0.  0.  0.  0.  1.  0.  0.  0.  0.  0.\n",
        "  0.  0.  0.  0.  0.  0.  0.  0.  0.  0.  0.  1.  0.  1.  0.  0.  0.  1.\n",
        "  0.  0.  0.  0.  1.  0.  0.  0.  0.  1.  0.  0.  0.  0.  0.  0.  0.  0.\n",
        "  1.  1.  0.  0.  0.  0.  0.  0.  0.  0.  0.  0.  0.  1.  0.  0.  0.  0.\n",
        "  0.  0.  1.  1.  0.  0.  0.  0.  0.  0.  0.  0.  0.  0.  0.  0.  0.  0.\n",
        "  0.  1.  0.  0.  0.  0.  0.  0.  1.  0.  0.  0.  0.  0.  0.  0.  0.  0.\n",
        "  1.  0.  0.  0.  0.  0.  0.  0.  0.  0.  0.  0.  0.  0.  0.  0.  0.  0.\n",
        "  0.  0.  0.  0.  0.  0.  0.  0.  0.  0.  0.  0.  0.  1.  1.  0.  0.  0.\n",
        "  0.  0.  0.  0.  1.  0.  0.  1.  0.  0.  0.  1.  1.  0.  0.  0.  1.  0.\n",
        "  0.  0.  0.  0.  0.  1.  0.  0.  0.  0.  0.  0.  0.  0.  0.  0.  1.  0.\n",
        "  0.  0.  0.  0.  0.  0.  1.  0.  0.  0.  0.  0.  0.  0.  0.  0.  0.  0.\n",
        "  0.  0.  0.  0.  0.  0.  0.  0.  0.  1.  0.  1.  0.  0.  0.  0.  0.  0.\n",
        "  1.  0.  1.  0.  0.  0.  0.  0.  0.  0.  0.  0.  0.  0.  0.  0.  0.  0.\n",
        "  0.  0.  0.  0.  0.  0.  1.  0.  0.  0.  0.  0.  0.  0.  0.  0.  0.  0.\n",
        "  0.  0.  0.  0.  0.  0.  0.  0.  0.  0.  0.  0.  0.  0.  0.  0.  0.  0.\n",
        "  0.  0.  0.  0.  1.  0.  0.  0.  0.  0.  0.  0.  0.  0.  0.  0.  0.  0.\n",
        "  0.  0.  0.  0.  0.  0.  0.  0.  0.  0.  0.  0.  0.  0.  1.  0.  0.  0.\n",
        "  1.  0.  0.  0.  0.  0.  0.  0.  0.  0.  0.  0.  1.  0.  0.  1.  0.  0.\n",
        "  0.  0.  1.  1.  0.  0.  0.  0.  0.  1.  0.  0.  0.  0.  0.  0.  0.  0.\n",
        "  0.  1.  0.  0.  0.  0.  0.  0.  0.  0.  0.  0.  0.  0.  1.  0.  0.  0.\n",
        "  1.  0.  0.  0.  0.  0.  0.  1.  1.  0.  0.  0.  0.  0.  0.  0.  0.  0.\n",
        "  0.  0.  0.  0.  0.  0.  0.  0.  0.  0.  0.  0.  0.  0.  0.  0.  0.  0.\n",
        "  0.  0.  0.  0.  0.  0.  0.  0.  0.  1.  0.  0.  0.  0.  0.  0.  0.  0.\n",
        "  0.  0.  0.  0.  0.  0.  1.  0.  0.  0.  0.  0.  0.  0.  0.  0.  0.  0.\n",
        "  0.  1.  0.  0.  0.  0.  0.  0.  0.  0.  0.  0.  0.  0.  0.  0.  0.  0.\n",
        "  0.  1.  0.  0.  0.  0.  0.  1.  0.  0.  1.  0.  0.  0.  0.  0.  0.  0.\n",
        "  0.  0.  0.  0.  0.  0.  0.  0.  0.  0.  0.  0.  0.  0.  0.  0.  0.  0.\n",
        "  1.  0.  1.  0.  0.  0.  0.  0.  0.  1.  0.  0.  0.  0.  1.  0.  0.  0.\n",
        "  0.  0.  0.  0.  0.  0.  0.  0.  0.  0.  0.  0.  0.  0.  0.  0.  0.  0.\n",
        "  0.  0.  0.  0.]\n"
       ]
      }
     ],
     "prompt_number": 17
    },
    {
     "cell_type": "markdown",
     "metadata": {},
     "source": [
      "## Applying logistic regression\n",
      "\n",
      "The go-to machine learning library in Python is [scikit-learn](http://scikit-learn.org/). It expects the features $x$ in matrix form $X \\in \\mathbb{R}^{m \\times n}$ (one row per observation), together with a vector $y \\in \\mathbb{R}^m$ of class labels (one row per observation)."
     ]
    },
    {
     "cell_type": "code",
     "collapsed": false,
     "input": [
      "from sklearn.linear_model import LogisticRegression"
     ],
     "language": "python",
     "metadata": {},
     "outputs": [],
     "prompt_number": 18
    },
    {
     "cell_type": "code",
     "collapsed": false,
     "input": [
      "def questions_to_X_y(qs, voc):\n",
      "    X = np.zeros(shape=(len(qs), len(voc)))\n",
      "    y = np.zeros(shape=(len(qs)))\n",
      "\n",
      "    for i, q in enumerate(qs):\n",
      "        X[i, :] = question_to_vector(q, voc)\n",
      "        y[i] = topic_from_question(q)\n",
      "    return X, y"
     ],
     "language": "python",
     "metadata": {},
     "outputs": [],
     "prompt_number": 19
    },
    {
     "cell_type": "code",
     "collapsed": false,
     "input": [
      "X_train, y_train = questions_to_X_y(questions_train, vocabulary_sorted)\n",
      "X_test, y_test = questions_to_X_y(questions_test, vocabulary_sorted)"
     ],
     "language": "python",
     "metadata": {},
     "outputs": [],
     "prompt_number": 20
    },
    {
     "cell_type": "markdown",
     "metadata": {},
     "source": [
      "With this setup all we need to do is call the `LogisticRegression` function from scikit-learn, fit the parameter vector $\\theta$ using the training set, and predict the classes of the test set."
     ]
    },
    {
     "cell_type": "code",
     "collapsed": false,
     "input": [
      "clf = LogisticRegression()\n",
      "clf.fit(X_train, y_train)\n",
      "print(clf.predict_proba(X_test))"
     ],
     "language": "python",
     "metadata": {},
     "outputs": [
      {
       "output_type": "stream",
       "stream": "stdout",
       "text": [
        "[[ 0.01918951  0.98081049]\n",
        " [ 0.98621408  0.01378592]\n",
        " [ 0.02675994  0.97324006]\n",
        " [ 0.95785771  0.04214229]\n",
        " [ 0.96679451  0.03320549]\n",
        " [ 0.57601222  0.42398778]\n",
        " [ 0.93129252  0.06870748]\n",
        " [ 0.10557706  0.89442294]\n",
        " [ 0.9666781   0.0333219 ]\n",
        " [ 0.0509448   0.9490552 ]\n",
        " [ 0.96717695  0.03282305]\n",
        " [ 0.04483096  0.95516904]\n",
        " [ 0.01033399  0.98966601]\n",
        " [ 0.12491478  0.87508522]\n",
        " [ 0.01048887  0.98951113]\n",
        " [ 0.01594232  0.98405768]\n",
        " [ 0.97963112  0.02036888]\n",
        " [ 0.13639215  0.86360785]\n",
        " [ 0.03771143  0.96228857]\n",
        " [ 0.91540732  0.08459268]]\n"
       ]
      }
     ],
     "prompt_number": 21
    },
    {
     "cell_type": "markdown",
     "metadata": {},
     "source": [
      "Each row is the classification prediction for one question in the **test set**. The left column is the confidence that this question is `TOPIC0`, the right column the confidence that is it `TOPIC1`. In general the classification is very confident in its predictions. So, how well did we do?"
     ]
    },
    {
     "cell_type": "code",
     "collapsed": false,
     "input": [
      "clf.score(X_test, y_test)"
     ],
     "language": "python",
     "metadata": {},
     "outputs": [
      {
       "metadata": {},
       "output_type": "pyout",
       "prompt_number": 22,
       "text": [
        "1.0"
       ]
      }
     ],
     "prompt_number": 22
    },
    {
     "cell_type": "markdown",
     "metadata": {},
     "source": [
      "That...is surprisingly high! What patterns did the classifier pick up to become so good? Recall\n",
      "\n",
      "$$h_\\theta(x) = \\frac1{1+e^{-\\theta^Tx}}$$\n",
      "\n",
      "The trained weights $\\theta_i$ tell us the importance of feature $i$ to the classification problem. But feature $i$ is just the presence or absence of the $i$-th word. Hence we can check which words transport the most meaning to distinguish between the topics."
     ]
    },
    {
     "cell_type": "code",
     "collapsed": false,
     "input": [
      "most_important_features = np.abs(clf.coef_).argsort()[0][-1:-10:-1]\n",
      "least_important_features = np.abs(clf.coef_).argsort()[0][:10]\n",
      "print('Most important words:')\n",
      "for ind in most_important_features:\n",
      "    print('%6.3f, %s' % (clf.coef_[0][ind], vocabulary_sorted[ind]))\n",
      "print('-' * 30)\n",
      "print('Least important words:')\n",
      "for ind in least_important_features:\n",
      "    print('%6.3f, %s' % (clf.coef_[0][ind], vocabulary_sorted[ind]))"
     ],
     "language": "python",
     "metadata": {},
     "outputs": [
      {
       "output_type": "stream",
       "stream": "stdout",
       "text": [
        "Most important words:\n",
        " 0.868, matrix\n",
        "-0.753, probabl\n",
        " 0.727, eigenvalu\n",
        "-0.622, densiti\n",
        "-0.578, function\n",
        " 0.545, eigenvector\n",
        "-0.418, integr\n",
        "-0.394, valu\n",
        " 0.347, vector\n",
        "------------------------------\n",
        "Least important words:\n",
        " 0.001, scale\n",
        " 0.001, complet\n",
        " 0.002, howev\n",
        "-0.002, mind\n",
        "-0.002, veri\n",
        " 0.002, rememb\n",
        " 0.002, approach\n",
        " 0.003, hold\n",
        " 0.003, onli\n",
        "-0.003, proof\n"
       ]
      }
     ],
     "prompt_number": 23
    },
    {
     "cell_type": "markdown",
     "metadata": {},
     "source": [
      "Pretty sweet: The logistic regression learned that **matrix**, **eigenvalu** and **eigenvector** are really good indicators for an **Eigenvalues_and_eigenvectors** questions. On the other hand, **probabl**, **densiti** and **function** indicate a question on **Probability_density_function**"
     ]
    },
    {
     "cell_type": "markdown",
     "metadata": {},
     "source": [
      "Another way to visualize this result is to use word clouds."
     ]
    },
    {
     "cell_type": "code",
     "collapsed": false,
     "input": [
      "from wordcloud import WordCloud\n",
      "import matplotlib.pyplot as plt\n",
      "%matplotlib inline"
     ],
     "language": "python",
     "metadata": {},
     "outputs": [],
     "prompt_number": 24
    },
    {
     "cell_type": "markdown",
     "metadata": {},
     "source": [
      "### Words that signal a question on Probability_density_function"
     ]
    },
    {
     "cell_type": "code",
     "collapsed": false,
     "input": [
      "wc = WordCloud().generate(' '.join([vocabulary_sorted[ind] for ind in clf.coef_.argsort()[0][:12]]))\n",
      "plt.imshow(wc)\n",
      "plt.axis(\"off\")\n",
      "plt.show()"
     ],
     "language": "python",
     "metadata": {},
     "outputs": [
      {
       "metadata": {},
       "output_type": "display_data",
       "png": "[encoded data removed]",
       "text": [
        "<matplotlib.figure.Figure at 0x7fcf6ff82310>"
       ]
      }
     ],
     "prompt_number": 25
    },
    {
     "cell_type": "markdown",
     "metadata": {},
     "source": [
      "### Words that signal a question on Eigenvalues_and_eigenvectors"
     ]
    },
    {
     "cell_type": "code",
     "collapsed": false,
     "input": [
      "wc = WordCloud().generate(' '.join([vocabulary_sorted[ind] for ind in clf.coef_.argsort()[0][-1:-12:-1]]))\n",
      "plt.imshow(wc)\n",
      "plt.axis(\"off\")\n",
      "plt.show()"
     ],
     "language": "python",
     "metadata": {},
     "outputs": [
      {
       "metadata": {},
       "output_type": "display_data",
       "png": "[encoded data removed]",
       "text": [
        "<matplotlib.figure.Figure at 0x7fcf6feeb110>"
       ]
      }
     ],
     "prompt_number": 26
    },
    {
     "cell_type": "markdown",
     "metadata": {},
     "source": [
      "## Another way to visualize: PCA\n",
      "\n",
      "Logistic regression has a linear decision boundary, that is, the parameter vector $\\theta$ defines a hyperplan in $\\mathbb{R}^n$, and points get classified depending on which side of the hyperplane they are on.\n",
      "\n",
      "In our case we can not visualize all dimensions. However, we can use [Principal Component Analysis](http://scikit-learn.org/stable/modules/generated/sklearn.decomposition.PCA.html) to project the dataset down to two or three dimensions for plotting. Ideally we see that the different classes can be separated by a hyperplane or at least cluster in some way."
     ]
    },
    {
     "cell_type": "code",
     "collapsed": false,
     "input": [
      "from sklearn.decomposition import PCA\n",
      "from mpl_toolkits.mplot3d import Axes3D"
     ],
     "language": "python",
     "metadata": {},
     "outputs": [],
     "prompt_number": 27
    },
    {
     "cell_type": "code",
     "collapsed": false,
     "input": [
      "pca = PCA(n_components=3)\n",
      "pca.fit(X_train)\n",
      "pca_X_train = pca.transform(X_train)\n",
      "pca_X_test = pca.transform(X_test)\n",
      "print('The first 3 principal components explain %.2f of the variance in the dataset.' % sum(pca.explained_variance_ratio_))"
     ],
     "language": "python",
     "metadata": {},
     "outputs": [
      {
       "output_type": "stream",
       "stream": "stdout",
       "text": [
        "The first 3 principal components explain 0.22 of the variance in the dataset.\n"
       ]
      }
     ],
     "prompt_number": 28
    },
    {
     "cell_type": "code",
     "collapsed": false,
     "input": [
      "labels_train = [TOPIC1 if _ else TOPIC0 for _ in y_train]\n",
      "labels_test = [TOPIC1 if _ else TOPIC0 for _ in y_test]\n",
      "fig = plt.figure(1, figsize=(8, 6))\n",
      "plt.clf()\n",
      "ax = Axes3D(fig, rect=[0, 0, .95, 1], elev=25, azim=70)\n",
      "for c, i, label in zip('rgb', [0, 1], labels_train):\n",
      "    ax.scatter(pca_X_train[y_train == i, 0],\n",
      "               pca_X_train[y_train == i, 1],\n",
      "               pca_X_train[y_train == i, 2],\n",
      "               c=c, label=label)\n",
      "for c, i, label in zip('rgb', [0, 1], [l + ' (test)' for l in labels_test]):\n",
      "    ax.scatter(pca_X_test[y_test == i, 0],\n",
      "               pca_X_test[y_test == i, 1],\n",
      "               pca_X_test[y_test == i, 2],\n",
      "               c=c, label=label, marker='x')\n",
      "plt.legend()\n",
      "plt.show()"
     ],
     "language": "python",
     "metadata": {},
     "outputs": [
      {
       "metadata": {},
       "output_type": "display_data",
       "png": "[encoded data removed]",
       "text": [
        "<matplotlib.figure.Figure at 0x7fcf6fe72e90>"
       ]
      }
     ],
     "prompt_number": 29
    },
    {
     "cell_type": "markdown",
     "metadata": {},
     "source": [
      "Finally, what is up with the question that the classifier has a hard time to choose the topic?"
     ]
    },
    {
     "cell_type": "code",
     "collapsed": false,
     "input": [
      "display_MER_question(questions_test[5])"
     ],
     "language": "python",
     "metadata": {},
     "outputs": [
      {
       "html": [
        "<div style='background: #AAFFAA; width: 40%;'>Probability_density_function</div><div style='display: inline-block; width: 40%;'><h3>STATEMENT</h3><p>On both figures from <span>part (a)</span>, indicate the <strong>median</strong> of this distribution.</p>\n",
        "<h3>HINT</h3><p>No content found.</p>\n",
        "<h3>SOLUTION</h3><p>No content found.</p>\n",
        "</div>"
       ],
       "metadata": {},
       "output_type": "display_data",
       "text": [
        "<IPython.core.display.HTML at 0x7fcf6fe5f910>"
       ]
      }
     ],
     "prompt_number": 30
    },
    {
     "cell_type": "markdown",
     "metadata": {},
     "source": [
      "Ah, that makes sense. This question has almost no content, making it harder to pick up on the two key words **median** and **distribution**."
     ]
    },
    {
     "cell_type": "markdown",
     "metadata": {},
     "source": [
      "**Author:** https://github.com/BernhardKonrad"
     ]
    },
    {
     "cell_type": "code",
     "collapsed": false,
     "input": [],
     "language": "python",
     "metadata": {},
     "outputs": []
    }
   ],
   "metadata": {}
  }
 ]
}